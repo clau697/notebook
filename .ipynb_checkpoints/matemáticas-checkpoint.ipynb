{
 "cells": [
  {
   "cell_type": "markdown",
   "id": "2dfc5d30",
   "metadata": {},
   "source": [
    "# matemáticas"
   ]
  },
  {
   "cell_type": "code",
   "execution_count": 1,
   "id": "d307ae05",
   "metadata": {},
   "outputs": [],
   "source": [
    "import math"
   ]
  },
  {
   "cell_type": "code",
   "execution_count": 6,
   "id": "80297d18",
   "metadata": {},
   "outputs": [
    {
     "data": {
      "text/plain": [
       "1.0"
      ]
     },
     "execution_count": 6,
     "metadata": {},
     "output_type": "execute_result"
    }
   ],
   "source": [
    "math.sin(90*math.pi/180)"
   ]
  },
  {
   "cell_type": "code",
   "execution_count": 11,
   "id": "8d9ec7ad",
   "metadata": {},
   "outputs": [
    {
     "data": {
      "text/plain": [
       "0.0"
      ]
     },
     "execution_count": 11,
     "metadata": {},
     "output_type": "execute_result"
    }
   ],
   "source": [
    "senopi = math.sin(math.pi)\n",
    "round(senopi,3)"
   ]
  },
  {
   "cell_type": "code",
   "execution_count": null,
   "id": "eee6f87d",
   "metadata": {},
   "outputs": [],
   "source": []
  }
 ],
 "metadata": {
  "kernelspec": {
   "display_name": "Python 3 (ipykernel)",
   "language": "python",
   "name": "python3"
  },
  "language_info": {
   "codemirror_mode": {
    "name": "ipython",
    "version": 3
   },
   "file_extension": ".py",
   "mimetype": "text/x-python",
   "name": "python",
   "nbconvert_exporter": "python",
   "pygments_lexer": "ipython3",
   "version": "3.9.6"
  }
 },
 "nbformat": 4,
 "nbformat_minor": 5
}
